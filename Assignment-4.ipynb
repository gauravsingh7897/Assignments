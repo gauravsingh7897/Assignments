{
 "cells": [
  {
   "cell_type": "markdown",
   "metadata": {},
   "source": [
    "#### Ques-1.1) Write a Python Program(with class concepts) to find the area of the triangle using the below formula. area = (s*(s-a)*(s-b)*(s-c)) ** 0.5 . Function to take the length of the sides of triangle from user should be defined in the parent class and function to calculate the area should be defined in subclass."
   ]
  },
  {
   "cell_type": "code",
   "execution_count": 1,
   "metadata": {},
   "outputs": [],
   "source": [
    "### Base Class for Triangle\n",
    "class Triangle:\n",
    "    def __init__(self):\n",
    "        self.a = float(input('Enter length side a: '))\n",
    "        self.b = float(input('Enter length side b: '))\n",
    "        self.c = float(input('Enter length side b: '))"
   ]
  },
  {
   "cell_type": "code",
   "execution_count": 2,
   "metadata": {},
   "outputs": [],
   "source": [
    "### Child Class for Calculating Area of Triangle\n",
    "class AreaOfTriangle(Triangle):\n",
    "    def __init__(self):\n",
    "        Triangle.__init__(self)\n",
    "    def area(self):\n",
    "        s = (self.a + self.b + self.c) / 2\n",
    "        area = (s*(s-self.a)*(s-self.b)*(s-self.c)) ** 0.5\n",
    "        return area"
   ]
  },
  {
   "cell_type": "code",
   "execution_count": 3,
   "metadata": {},
   "outputs": [
    {
     "name": "stdout",
     "output_type": "stream",
     "text": [
      "Enter length side a: 2\n",
      "Enter length side b: 3\n",
      "Enter length side b: 4\n"
     ]
    }
   ],
   "source": [
    "ob = AreaOfTriangle()  ## Creating Object"
   ]
  },
  {
   "cell_type": "code",
   "execution_count": 4,
   "metadata": {},
   "outputs": [
    {
     "name": "stdout",
     "output_type": "stream",
     "text": [
      "Area of Triangle: 2.9047375096555625\n"
     ]
    }
   ],
   "source": [
    "print(\"Area of Triangle:\",ob.area())"
   ]
  },
  {
   "cell_type": "markdown",
   "metadata": {},
   "source": [
    "#### Ques-1.2) Write a function filter_long_words() that takes a list of words and an integer n and returns the list of words that are longer than n."
   ]
  },
  {
   "cell_type": "code",
   "execution_count": 5,
   "metadata": {},
   "outputs": [],
   "source": [
    "def filter_long_words(my_list, n):  ### Create desired function\n",
    "    new_list = []\n",
    "    for i in my_list:\n",
    "        if len(i) > n:\n",
    "            new_list.append(i)\n",
    "    return new_list"
   ]
  },
  {
   "cell_type": "code",
   "execution_count": 6,
   "metadata": {},
   "outputs": [
    {
     "name": "stdout",
     "output_type": "stream",
     "text": [
      "Please enter Words : universe, quantum, sky, atmosphere, cosmos\n",
      "Please enter value of n: 5\n",
      "Words longer than 5 are: ['universe', 'quantum', 'atmosphere', 'cosmos']\n"
     ]
    }
   ],
   "source": [
    "### Test for function\n",
    "word_list=list(input(\"Please enter Words : \").split(\",\"))\n",
    "sample_list=[x.strip() for x in word_list]\n",
    "n = int(input('Please enter value of n: '))\n",
    "print(f'Words longer than {n} are:',filter_long_words(sample_list,5))"
   ]
  },
  {
   "cell_type": "markdown",
   "metadata": {},
   "source": [
    "#### Ques-2.1) Write a Python program using function concept that maps list of words into a list of integers representing the lengths of the corresponding words.\n",
    "##### Hint: If a list [ ab,cde,erty] is passed on to the python function output should come as [2,3,4] Here 2,3 and 4 are the lengths of the words in the list."
   ]
  },
  {
   "cell_type": "code",
   "execution_count": 7,
   "metadata": {},
   "outputs": [
    {
     "name": "stdout",
     "output_type": "stream",
     "text": [
      "Please enter Words : universe, quantum, sky, atmosphere, cosmos\n",
      "Length of each word in list: [8, 7, 3, 10, 6]\n"
     ]
    }
   ],
   "source": [
    "### Approach-1\n",
    "\n",
    "def mymap(your_fn, my_list):\n",
    "    result = []\n",
    "    for item in my_list:\n",
    "        result.append(your_fn(item))\n",
    "    return result\n",
    "\n",
    "def my_fn(data):\n",
    "    return len(data)\n",
    "\n",
    "word_list=list(input(\"Please enter Words : \").split(\",\"))\n",
    "my_list=[x.strip() for x in word_list]\n",
    "print('Length of each word in list:',mymap(my_fn,my_list))"
   ]
  },
  {
   "cell_type": "code",
   "execution_count": 8,
   "metadata": {},
   "outputs": [
    {
     "name": "stdout",
     "output_type": "stream",
     "text": [
      "Please enter Words : universe, quantum, sky, atmosphere, cosmos\n",
      "Length of each word in list: [8, 7, 3, 10, 6]\n"
     ]
    }
   ],
   "source": [
    "### Approach-2\n",
    "\n",
    "def direct_map(my_list):\n",
    "    return list(map(len, my_list)) ## Direct Using Map function\n",
    "\n",
    "word_list=list(input(\"Please enter Words : \").split(\",\"))\n",
    "my_list=[x.strip() for x in word_list]\n",
    "print('Length of each word in list:',direct_map(my_list))"
   ]
  },
  {
   "cell_type": "markdown",
   "metadata": {},
   "source": [
    "#### 2.2 Write a Python function which takes a character (i.e. a string of length 1) and returns True if it is a vowel, False otherwise."
   ]
  },
  {
   "cell_type": "code",
   "execution_count": 9,
   "metadata": {},
   "outputs": [],
   "source": [
    "### Create function for vowel check\n",
    "\n",
    "def vowel_check(word):\n",
    "    vowel_list = ['a','e','i','o','u','A','E','I','O','U'] ## list of vowels\n",
    "    if(len(word)==1):\n",
    "        if word in vowel_list:\n",
    "            return True\n",
    "        else:\n",
    "            return False\n",
    "    else:\n",
    "        print(\"Please Enter one character only\")"
   ]
  },
  {
   "cell_type": "code",
   "execution_count": 10,
   "metadata": {},
   "outputs": [
    {
     "name": "stdout",
     "output_type": "stream",
     "text": [
      "Enter character : Z\n",
      "Output : False\n"
     ]
    }
   ],
   "source": [
    "### Test for the function\n",
    "char = input('Enter character : ')\n",
    "print('Output :',vowel_check(char))"
   ]
  }
 ],
 "metadata": {
  "kernelspec": {
   "display_name": "Python 3.7.6 64-bit",
   "language": "python",
   "name": "python37664bit4993cd7e75f34146bbc363d262bfde1b"
  },
  "language_info": {
   "codemirror_mode": {
    "name": "ipython",
    "version": 3
   },
   "file_extension": ".py",
   "mimetype": "text/x-python",
   "name": "python",
   "nbconvert_exporter": "python",
   "pygments_lexer": "ipython3",
   "version": "3.7.6"
  }
 },
 "nbformat": 4,
 "nbformat_minor": 4
}
